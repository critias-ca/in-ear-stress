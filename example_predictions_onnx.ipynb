{
  "nbformat": 4,
  "nbformat_minor": 0,
  "metadata": {
    "colab": {
      "provenance": []
    },
    "kernelspec": {
      "name": "python3",
      "display_name": "Python 3"
    },
    "language_info": {
      "name": "python"
    }
  },
  "cells": [
    {
      "cell_type": "code",
      "source": [
        "# Imports\n",
        "import joblib\n",
        "import neurokit2 as nk\n",
        "import numpy as np\n",
        "import onnxruntime as ort\n",
        "import pandas as pd"
      ],
      "metadata": {
        "id": "PDRH6eJDtxmT"
      },
      "execution_count": null,
      "outputs": []
    },
    {
      "cell_type": "code",
      "source": [
        "# Define functions for generating example input and predicting with ONNX\n",
        "def generate_input_features(\n",
        "    heart_rate=60,\n",
        "    duration=180,\n",
        "    sampling_rate=1000,\n",
        "    random_state=42,\n",
        "    pkl_model_path=\"default_pred_pipe.pkl\",\n",
        "):\n",
        "    # Simulate ECG signal\n",
        "    ecg_signal = nk.ecg_simulate(\n",
        "        duration=duration,\n",
        "        sampling_rate=sampling_rate,\n",
        "        random_state=random_state,\n",
        "        heart_rate=heart_rate,\n",
        "    )\n",
        "    processed_ecg, _ = nk.ecg_process(ecg_signal, sampling_rate=sampling_rate)\n",
        "    X = pd.DataFrame(nk.hrv(processed_ecg, sampling_rate=sampling_rate))\n",
        "\n",
        "    # Load features expected by the model from pkl file (not saved in ONNX)\n",
        "    pred_pipe = joblib.load(pkl_model_path)\n",
        "    expected_features = pred_pipe.feature_names_in_\n",
        "\n",
        "    # Fill in any missing features with NaNs\n",
        "    missing_features = [\n",
        "        col for col in pred_pipe.feature_names_in_ if col not in X.columns\n",
        "    ]\n",
        "    for feat in missing_features:\n",
        "        X[feat] = np.nan\n",
        "    return X.loc[:, expected_features]\n",
        "\n",
        "\n",
        "def predict_with_onnx(X, onnx_model_path=\"default_pred_pipe.onnx\"):\n",
        "    # Load the ONNX model\n",
        "    sess = ort.InferenceSession(onnx_model_path)\n",
        "\n",
        "    # Prepare input data for testing\n",
        "    test_data = np.array(\n",
        "        X.loc[:, pred_pipe.feature_names_in_], dtype=np.float32\n",
        "    )\n",
        "    # Example input data\n",
        "    input_name = sess.get_inputs()[0].name\n",
        "    inputs = {input_name: test_data}\n",
        "\n",
        "    # Run the model to get predictions\n",
        "    pred = sess.run(None, inputs)\n",
        "\n",
        "    # Extract the output\n",
        "    output = pred[0]\n",
        "\n",
        "    return output"
      ],
      "metadata": {
        "id": "zHt-JV3HtsRl"
      },
      "execution_count": null,
      "outputs": []
    },
    {
      "cell_type": "code",
      "execution_count": null,
      "metadata": {
        "id": "dGtE9a0IsHAf"
      },
      "outputs": [],
      "source": [
        "# Get predictions for simulated ECG with 60 and 140 BPM\n",
        "for heart_rate in [60, 140]:\n",
        "    print(\"Heart rate (BPM): \" + heart_rate)\n",
        "    print(predict_with_onnx(generate_input_features(heart_rate=heart_rate)))"
      ]
    }
  ]
}